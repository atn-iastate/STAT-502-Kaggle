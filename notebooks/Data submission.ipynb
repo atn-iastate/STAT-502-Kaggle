{
 "cells": [
  {
   "cell_type": "code",
   "execution_count": 4,
   "metadata": {},
   "outputs": [],
   "source": [
    "import pandas as pd\n",
    "import numpy as np\n",
    "from sklearn.tree import DecisionTreeRegressor as DTG\n",
    "from sklearn.preprocessing import StandardScaler\n",
    "from sklearn.model_selection import KFold\n",
    "from sklearn.ensemble import AdaBoostRegressor, RandomForestRegressor, BaggingRegressor"
   ]
  },
  {
   "cell_type": "code",
   "execution_count": 5,
   "metadata": {},
   "outputs": [],
   "source": [
    "# real estate data\n",
    "data = {\n",
    "    \"train_data\": \"train.csv\",\n",
    "    \"test_data\": \"test.csv\"\n",
    "}\n",
    "\n",
    "url = \"https://raw.githubusercontent.com/atn-iastate/STAT-502-Kaggle/master/data/\"\n",
    "\n",
    "train_data = pd.read_csv(\"{}{}\".format(url, data['train_data']), delimiter=\",\")\n",
    "test_data = pd.read_csv(\"{}{}\".format(url, data['test_data']), delimiter=\",\")"
   ]
  },
  {
   "cell_type": "code",
   "execution_count": 74,
   "metadata": {},
   "outputs": [],
   "source": [
    "# adding house_age\n",
    "train_data['yr_sold'] = train_data['date'] // 10000\n",
    "train_data['yr_sold'].head()\n",
    "train_data['house_age'] = train_data['yr_sold'] - train_data['yr_built']\n",
    "\n",
    "# adding house_age\n",
    "test_data['yr_sold'] = test_data['date'] // 10000\n",
    "test_data['yr_sold'].head()\n",
    "test_data['house_age'] = test_data['yr_sold'] - test_data['yr_built']"
   ]
  },
  {
   "cell_type": "code",
   "execution_count": 75,
   "metadata": {},
   "outputs": [],
   "source": [
    "# plit\n",
    "train_data['renovated'] = train_data['yr_renovated'].apply(lambda x: 1 if x > 0 else 0)\n",
    "train_data['zipcode_indicator'] = 1\n",
    "pivot_train_data = train_data.pivot(columns = 'zipcode', values='zipcode_indicator')\n",
    "for i in pivot_train_data.columns:\n",
    "    pivot_train_data[i] = pivot_train_data[i].apply(lambda x: 0 if x != 1 else 1)\n",
    "    train_data[i] = pivot_train_data[i]\n",
    "\n",
    "# plit\n",
    "test_data['renovated'] = test_data['yr_renovated'].apply(lambda x: 1 if x > 0 else 0)\n",
    "test_data['zipcode_indicator'] = 1\n",
    "pivot_test_data = test_data.pivot(columns = 'zipcode', values='zipcode_indicator')\n",
    "for i in pivot_test_data.columns:\n",
    "    pivot_test_data[i] = pivot_test_data[i].apply(lambda x: 0 if x != 1 else 1)\n",
    "    test_data[i] = pivot_test_data[i]\n",
    "\n"
   ]
  },
  {
   "cell_type": "code",
   "execution_count": 76,
   "metadata": {},
   "outputs": [],
   "source": [
    "train_x = train_data.drop(columns = ['zipcode_indicator', 'property', 'date', 'price', 'yr_built', \n",
    "                                     'yr_renovated', 'yr_sold'])\n",
    "train_y = train_data['price']\n",
    "\n",
    "x = np.asarray(train_x)\n",
    "y = np.asarray(train_y)\n",
    "\n",
    "test_x = test_data.drop(columns = ['id', 'zipcode_indicator', 'property', 'date', 'yr_built', \n",
    "                                     'yr_renovated', 'yr_sold'])\n",
    "test_x = np.asarray(test_x)\n",
    "\n"
   ]
  },
  {
   "cell_type": "code",
   "execution_count": 77,
   "metadata": {},
   "outputs": [],
   "source": [
    "# AdaBoostedTree\n",
    "tree = DTG(min_samples_split = 20, min_samples_leaf = 10).fit(x, y)\n",
    "y_predict = tree.predict(test_x)\n",
    "y_predict = np.asarray([max(x, 0) for x in y_predict])"
   ]
  },
  {
   "cell_type": "code",
   "execution_count": 78,
   "metadata": {},
   "outputs": [],
   "source": [
    "output = pd.DataFrame(test_data['id'])\n",
    "output['price'] = y_predict"
   ]
  },
  {
   "cell_type": "code",
   "execution_count": 79,
   "metadata": {},
   "outputs": [],
   "source": [
    "output.to_csv(r'E:\\IASTATE\\STAT502\\kaggle\\data\\output.csv', index=False)"
   ]
  },
  {
   "cell_type": "code",
   "execution_count": null,
   "metadata": {},
   "outputs": [],
   "source": []
  }
 ],
 "metadata": {
  "kernelspec": {
   "display_name": "Python 3",
   "language": "python",
   "name": "python3"
  },
  "language_info": {
   "codemirror_mode": {
    "name": "ipython",
    "version": 3
   },
   "file_extension": ".py",
   "mimetype": "text/x-python",
   "name": "python",
   "nbconvert_exporter": "python",
   "pygments_lexer": "ipython3",
   "version": "3.7.4"
  }
 },
 "nbformat": 4,
 "nbformat_minor": 2
}
